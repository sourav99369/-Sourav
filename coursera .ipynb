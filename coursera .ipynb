{
 "cells": [
  {
   "cell_type": "markdown",
   "id": "7f8edebb",
   "metadata": {},
   "source": [
    "# Author\n",
    "   SOURAV\n"
   ]
  },
  {
   "cell_type": "code",
   "execution_count": 2,
   "id": "b711750a",
   "metadata": {},
   "outputs": [
    {
     "name": "stdout",
     "output_type": "stream",
     "text": [
      "Hello, Alice! Welcome to Jupyter Notebook.\n"
     ]
    }
   ],
   "source": [
    "# This is a simple Python code snippet\n",
    "def greet(name):\n",
    "    return f\"Hello, {name}! Welcome to Jupyter Notebook.\"\n",
    "\n",
    "user_name = \"Alice\"\n",
    "greeting = greet(user_name)\n",
    "print(greeting)\n"
   ]
  },
  {
   "cell_type": "code",
   "execution_count": null,
   "id": "0cc627b3",
   "metadata": {},
   "outputs": [],
   "source": []
  }
 ],
 "metadata": {
  "kernelspec": {
   "display_name": "Python 3 (ipykernel)",
   "language": "python",
   "name": "python3"
  },
  "language_info": {
   "codemirror_mode": {
    "name": "ipython",
    "version": 3
   },
   "file_extension": ".py",
   "mimetype": "text/x-python",
   "name": "python",
   "nbconvert_exporter": "python",
   "pygments_lexer": "ipython3",
   "version": "3.11.3"
  }
 },
 "nbformat": 4,
 "nbformat_minor": 5
}
